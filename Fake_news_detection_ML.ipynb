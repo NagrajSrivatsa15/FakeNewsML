{
  "nbformat": 4,
  "nbformat_minor": 0,
  "metadata": {
    "colab": {
      "name": "Fake_news_detection_ML.ipynb",
      "provenance": [],
      "collapsed_sections": [],
      "authorship_tag": "ABX9TyMT/2eG2V8ufCRKFII0RaKc",
      "include_colab_link": true
    },
    "kernelspec": {
      "name": "python3",
      "display_name": "Python 3"
    },
    "language_info": {
      "name": "python"
    }
  },
  "cells": [
    {
      "cell_type": "markdown",
      "metadata": {
        "id": "view-in-github",
        "colab_type": "text"
      },
      "source": [
        "<a href=\"https://colab.research.google.com/github/NagrajSrivatsa15/FakeNewsML/blob/main/Fake_news_detection_ML.ipynb\" target=\"_parent\"><img src=\"https://colab.research.google.com/assets/colab-badge.svg\" alt=\"Open In Colab\"/></a>"
      ]
    },
    {
      "cell_type": "code",
      "execution_count": null,
      "metadata": {
        "id": "IEeWqJYluY28"
      },
      "outputs": [],
      "source": [
        "#importing depedencies and libraries\n",
        "import numpy as np\n",
        "import pandas as pd\n",
        "import re\n",
        "from nltk.corpus import stopwords\n",
        "from nltk.stem.porter import PorterStemmer\n",
        "from sklearn.model_selection import train_test_split\n",
        "from sklearn.metrics import accuracy_score\n",
        "from sklearn.metrics import classification_report,confusion_matrix\n",
        "import seaborn as sns\n",
        "from sklearn.model_selection import cross_val_score\n",
        "from sklearn.ensemble import RandomForestClassifier"
      ]
    },
    {
      "cell_type": "code",
      "source": [
        "#dowloading stopwords to eliminate words like youre, at, that, this............\n",
        "import nltk\n",
        "nltk.download('stopwords')"
      ],
      "metadata": {
        "colab": {
          "base_uri": "https://localhost:8080/"
        },
        "id": "Oc-QOKJXujEu",
        "outputId": "d394cc12-9981-4619-8fc2-d16a76aa36a7"
      },
      "execution_count": null,
      "outputs": [
        {
          "output_type": "stream",
          "name": "stdout",
          "text": [
            "[nltk_data] Downloading package stopwords to /root/nltk_data...\n",
            "[nltk_data]   Package stopwords is already up-to-date!\n"
          ]
        },
        {
          "output_type": "execute_result",
          "data": {
            "text/plain": [
              "True"
            ]
          },
          "metadata": {},
          "execution_count": 3
        }
      ]
    },
    {
      "cell_type": "code",
      "source": [
        "#Lets print the words \n",
        "print(stopwords.words('english'))"
      ],
      "metadata": {
        "colab": {
          "base_uri": "https://localhost:8080/"
        },
        "id": "gdjMCtWOuqSM",
        "outputId": "4e0a8a8c-5c88-4470-9899-3575d72000a8"
      },
      "execution_count": null,
      "outputs": [
        {
          "output_type": "stream",
          "name": "stdout",
          "text": [
            "['i', 'me', 'my', 'myself', 'we', 'our', 'ours', 'ourselves', 'you', \"you're\", \"you've\", \"you'll\", \"you'd\", 'your', 'yours', 'yourself', 'yourselves', 'he', 'him', 'his', 'himself', 'she', \"she's\", 'her', 'hers', 'herself', 'it', \"it's\", 'its', 'itself', 'they', 'them', 'their', 'theirs', 'themselves', 'what', 'which', 'who', 'whom', 'this', 'that', \"that'll\", 'these', 'those', 'am', 'is', 'are', 'was', 'were', 'be', 'been', 'being', 'have', 'has', 'had', 'having', 'do', 'does', 'did', 'doing', 'a', 'an', 'the', 'and', 'but', 'if', 'or', 'because', 'as', 'until', 'while', 'of', 'at', 'by', 'for', 'with', 'about', 'against', 'between', 'into', 'through', 'during', 'before', 'after', 'above', 'below', 'to', 'from', 'up', 'down', 'in', 'out', 'on', 'off', 'over', 'under', 'again', 'further', 'then', 'once', 'here', 'there', 'when', 'where', 'why', 'how', 'all', 'any', 'both', 'each', 'few', 'more', 'most', 'other', 'some', 'such', 'no', 'nor', 'not', 'only', 'own', 'same', 'so', 'than', 'too', 'very', 's', 't', 'can', 'will', 'just', 'don', \"don't\", 'should', \"should've\", 'now', 'd', 'll', 'm', 'o', 're', 've', 'y', 'ain', 'aren', \"aren't\", 'couldn', \"couldn't\", 'didn', \"didn't\", 'doesn', \"doesn't\", 'hadn', \"hadn't\", 'hasn', \"hasn't\", 'haven', \"haven't\", 'isn', \"isn't\", 'ma', 'mightn', \"mightn't\", 'mustn', \"mustn't\", 'needn', \"needn't\", 'shan', \"shan't\", 'shouldn', \"shouldn't\", 'wasn', \"wasn't\", 'weren', \"weren't\", 'won', \"won't\", 'wouldn', \"wouldn't\"]\n"
          ]
        }
      ]
    },
    {
      "cell_type": "code",
      "source": [
        "pwd"
      ],
      "metadata": {
        "colab": {
          "base_uri": "https://localhost:8080/",
          "height": 35
        },
        "id": "xyCV0Vf_ydo9",
        "outputId": "257420b3-1143-44de-db17-3e693eccf26a"
      },
      "execution_count": null,
      "outputs": [
        {
          "output_type": "execute_result",
          "data": {
            "application/vnd.google.colaboratory.intrinsic+json": {
              "type": "string"
            },
            "text/plain": [
              "'/content'"
            ]
          },
          "metadata": {},
          "execution_count": 20
        }
      ]
    },
    {
      "cell_type": "code",
      "source": [
        "#dataset\n",
        "fake_real_dataset=pd.read_csv('/content/train.csv')"
      ],
      "metadata": {
        "id": "4ZD9UH9AiO5z"
      },
      "execution_count": null,
      "outputs": []
    },
    {
      "cell_type": "code",
      "source": [
        "fake_real_dataset.shape"
      ],
      "metadata": {
        "id": "RTDhd3_CzDkp",
        "outputId": "6c2edc01-99c3-446a-9c49-c34c3f7bf8af",
        "colab": {
          "base_uri": "https://localhost:8080/"
        }
      },
      "execution_count": null,
      "outputs": [
        {
          "output_type": "execute_result",
          "data": {
            "text/plain": [
              "(20800, 5)"
            ]
          },
          "metadata": {},
          "execution_count": 6
        }
      ]
    },
    {
      "cell_type": "code",
      "source": [
        "fake_real_dataset.head"
      ],
      "metadata": {
        "id": "RB219N-kzIPa",
        "colab": {
          "base_uri": "https://localhost:8080/"
        },
        "outputId": "6865c4c7-ad4a-4b74-971c-281c000b7315"
      },
      "execution_count": null,
      "outputs": [
        {
          "output_type": "execute_result",
          "data": {
            "text/plain": [
              "<bound method NDFrame.head of           id  ... label\n",
              "0          0  ...     1\n",
              "1          1  ...     0\n",
              "2          2  ...     1\n",
              "3          3  ...     1\n",
              "4          4  ...     1\n",
              "...      ...  ...   ...\n",
              "20795  20795  ...     0\n",
              "20796  20796  ...     0\n",
              "20797  20797  ...     0\n",
              "20798  20798  ...     1\n",
              "20799  20799  ...     1\n",
              "\n",
              "[20800 rows x 5 columns]>"
            ]
          },
          "metadata": {},
          "execution_count": 7
        }
      ]
    },
    {
      "cell_type": "code",
      "source": [
        "fake_real_dataset.info()"
      ],
      "metadata": {
        "id": "9hQ07XDwz2C9",
        "colab": {
          "base_uri": "https://localhost:8080/"
        },
        "outputId": "b7aab35d-75ad-4b26-a812-0a4aaadccd94"
      },
      "execution_count": null,
      "outputs": [
        {
          "output_type": "stream",
          "name": "stdout",
          "text": [
            "<class 'pandas.core.frame.DataFrame'>\n",
            "RangeIndex: 20800 entries, 0 to 20799\n",
            "Data columns (total 5 columns):\n",
            " #   Column  Non-Null Count  Dtype \n",
            "---  ------  --------------  ----- \n",
            " 0   id      20800 non-null  int64 \n",
            " 1   title   20242 non-null  object\n",
            " 2   author  18843 non-null  object\n",
            " 3   text    20761 non-null  object\n",
            " 4   label   20800 non-null  int64 \n",
            "dtypes: int64(2), object(3)\n",
            "memory usage: 812.6+ KB\n"
          ]
        }
      ]
    },
    {
      "cell_type": "code",
      "source": [
        "fake_real_dataset.isnull().sum()"
      ],
      "metadata": {
        "id": "RtSUatFGzMhE",
        "colab": {
          "base_uri": "https://localhost:8080/"
        },
        "outputId": "6b0e3623-0aef-402a-c51c-fef92802b936"
      },
      "execution_count": null,
      "outputs": [
        {
          "output_type": "execute_result",
          "data": {
            "text/plain": [
              "id           0\n",
              "title      558\n",
              "author    1957\n",
              "text        39\n",
              "label        0\n",
              "dtype: int64"
            ]
          },
          "metadata": {},
          "execution_count": 9
        }
      ]
    },
    {
      "cell_type": "code",
      "source": [
        "sns.heatmap(fake_real_dataset.isnull(),yticklabels=False,cbar=False,cmap='viridis')"
      ],
      "metadata": {
        "colab": {
          "base_uri": "https://localhost:8080/",
          "height": 282
        },
        "id": "D2GWI3g2iy1V",
        "outputId": "b835af18-9102-43d3-9182-ba51a0578d22"
      },
      "execution_count": null,
      "outputs": [
        {
          "output_type": "execute_result",
          "data": {
            "text/plain": [
              "<matplotlib.axes._subplots.AxesSubplot at 0x7f73e2d2c950>"
            ]
          },
          "metadata": {},
          "execution_count": 10
        },
        {
          "output_type": "display_data",
          "data": {
            "image/png": "[encoded data removed]",
            "text/plain": [
              "<Figure size 432x288 with 1 Axes>"
            ]
          },
          "metadata": {
            "needs_background": "light"
          }
        }
      ]
    },
    {
      "cell_type": "code",
      "source": [
        "fake_real_dataset['label'].value_counts()\n",
        "\n",
        "sns.countplot(x = 'label',data=fake_real_dataset)"
      ],
      "metadata": {
        "colab": {
          "base_uri": "https://localhost:8080/",
          "height": 296
        },
        "id": "L7YyOAdBi7jv",
        "outputId": "e7e2411e-2c1c-46fe-9027-492dbef5a6bf"
      },
      "execution_count": null,
      "outputs": [
        {
          "output_type": "execute_result",
          "data": {
            "text/plain": [
              "<matplotlib.axes._subplots.AxesSubplot at 0x7f73da7e31d0>"
            ]
          },
          "metadata": {},
          "execution_count": 11
        },
        {
          "output_type": "display_data",
          "data": {
            "image/png": "[encoded data removed]",
            "text/plain": [
              "<Figure size 432x288 with 1 Axes>"
            ]
          },
          "metadata": {
            "needs_background": "light"
          }
        }
      ]
    },
    {
      "cell_type": "code",
      "source": [
        "#Null values replaced by empty string\n",
        "fake_real_dataset=fake_real_dataset.fillna('')"
      ],
      "metadata": {
        "id": "ssCcrcAjzNtG"
      },
      "execution_count": null,
      "outputs": []
    },
    {
      "cell_type": "code",
      "source": [
        "fake_real_dataset.isnull().sum()"
      ],
      "metadata": {
        "colab": {
          "base_uri": "https://localhost:8080/"
        },
        "id": "dlGTywjEque4",
        "outputId": "4f4e306b-07d1-420e-a063-0bf83a449859"
      },
      "execution_count": null,
      "outputs": [
        {
          "output_type": "execute_result",
          "data": {
            "text/plain": [
              "id        0\n",
              "title     0\n",
              "author    0\n",
              "text      0\n",
              "label     0\n",
              "dtype: int64"
            ]
          },
          "metadata": {},
          "execution_count": 13
        }
      ]
    },
    {
      "cell_type": "code",
      "source": [
        "sns.heatmap(fake_real_dataset.isnull(),yticklabels=False,cbar=False,cmap='viridis')"
      ],
      "metadata": {
        "colab": {
          "base_uri": "https://localhost:8080/",
          "height": 282
        },
        "id": "8ZWpJOG0qxg9",
        "outputId": "ee40639d-fb0e-4bea-c706-5a736b4af1d8"
      },
      "execution_count": null,
      "outputs": [
        {
          "output_type": "execute_result",
          "data": {
            "text/plain": [
              "<matplotlib.axes._subplots.AxesSubplot at 0x7f73da374850>"
            ]
          },
          "metadata": {},
          "execution_count": 14
        },
        {
          "output_type": "display_data",
          "data": {
            "image/png": "[encoded data removed]",
            "text/plain": [
              "<Figure size 432x288 with 1 Axes>"
            ]
          },
          "metadata": {
            "needs_background": "light"
          }
        }
      ]
    },
    {
      "cell_type": "code",
      "source": [
        "sns.countplot(x = 'label',data=fake_real_dataset)"
      ],
      "metadata": {
        "id": "dnzXzkZ1zYag",
        "colab": {
          "base_uri": "https://localhost:8080/",
          "height": 296
        },
        "outputId": "86e5980d-cbb3-4c79-cc32-c35ffbbb8bb7"
      },
      "execution_count": null,
      "outputs": [
        {
          "output_type": "execute_result",
          "data": {
            "text/plain": [
              "<matplotlib.axes._subplots.AxesSubplot at 0x7f73da2f7050>"
            ]
          },
          "metadata": {},
          "execution_count": 15
        },
        {
          "output_type": "display_data",
          "data": {
            "image/png": "[encoded data removed]",
            "text/plain": [
              "<Figure size 432x288 with 1 Axes>"
            ]
          },
          "metadata": {
            "needs_background": "light"
          }
        }
      ]
    },
    {
      "cell_type": "code",
      "source": [
        "fake_real_dataset.describe()"
      ],
      "metadata": {
        "id": "TV61qD0ZzxnQ",
        "colab": {
          "base_uri": "https://localhost:8080/",
          "height": 300
        },
        "outputId": "60a506ad-3a0d-4d9f-fcab-dbed6fc1e677"
      },
      "execution_count": null,
      "outputs": [
        {
          "output_type": "execute_result",
          "data": {
            "text/html": [
              "\n",
              "  <div id=\"df-24eb0eae-1e58-4d1f-8ee6-94ab7717e604\">\n",
              "    <div class=\"colab-df-container\">\n",
              "      <div>\n",
              "<style scoped>\n",
              "    .dataframe tbody tr th:only-of-type {\n",
              "        vertical-align: middle;\n",
              "    }\n",
              "\n",
              "    .dataframe tbody tr th {\n",
              "        vertical-align: top;\n",
              "    }\n",
              "\n",
              "    .dataframe thead th {\n",
              "        text-align: right;\n",
              "    }\n",
              "</style>\n",
              "<table border=\"1\" class=\"dataframe\">\n",
              "  <thead>\n",
              "    <tr style=\"text-align: right;\">\n",
              "      <th></th>\n",
              "      <th>id</th>\n",
              "      <th>label</th>\n",
              "    </tr>\n",
              "  </thead>\n",
              "  <tbody>\n",
              "    <tr>\n",
              "      <th>count</th>\n",
              "      <td>20800.000000</td>\n",
              "      <td>20800.000000</td>\n",
              "    </tr>\n",
              "    <tr>\n",
              "      <th>mean</th>\n",
              "      <td>10399.500000</td>\n",
              "      <td>0.500625</td>\n",
              "    </tr>\n",
              "    <tr>\n",
              "      <th>std</th>\n",
              "      <td>6004.587135</td>\n",
              "      <td>0.500012</td>\n",
              "    </tr>\n",
              "    <tr>\n",
              "      <th>min</th>\n",
              "      <td>0.000000</td>\n",
              "      <td>0.000000</td>\n",
              "    </tr>\n",
              "    <tr>\n",
              "      <th>25%</th>\n",
              "      <td>5199.750000</td>\n",
              "      <td>0.000000</td>\n",
              "    </tr>\n",
              "    <tr>\n",
              "      <th>50%</th>\n",
              "      <td>10399.500000</td>\n",
              "      <td>1.000000</td>\n",
              "    </tr>\n",
              "    <tr>\n",
              "      <th>75%</th>\n",
              "      <td>15599.250000</td>\n",
              "      <td>1.000000</td>\n",
              "    </tr>\n",
              "    <tr>\n",
              "      <th>max</th>\n",
              "      <td>20799.000000</td>\n",
              "      <td>1.000000</td>\n",
              "    </tr>\n",
              "  </tbody>\n",
              "</table>\n",
              "</div>\n",
              "      <button class=\"colab-df-convert\" onclick=\"convertToInteractive('df-24eb0eae-1e58-4d1f-8ee6-94ab7717e604')\"\n",
              "              title=\"Convert this dataframe to an interactive table.\"\n",
              "              style=\"display:none;\">\n",
              "        \n",
              "  <svg xmlns=\"http://www.w3.org/2000/svg\" height=\"24px\"viewBox=\"0 0 24 24\"\n",
              "       width=\"24px\">\n",
              "    <path d=\"M0 0h24v24H0V0z\" fill=\"none\"/>\n",
              "    <path d=\"M18.56 5.44l.94 2.06.94-2.06 2.06-.94-2.06-.94-.94-2.06-.94 2.06-2.06.94zm-11 1L8.5 8.5l.94-2.06 2.06-.94-2.06-.94L8.5 2.5l-.94 2.06-2.06.94zm10 10l.94 2.06.94-2.06 2.06-.94-2.06-.94-.94-2.06-.94 2.06-2.06.94z\"/><path d=\"M17.41 7.96l-1.37-1.37c-.4-.4-.92-.59-1.43-.59-.52 0-1.04.2-1.43.59L10.3 9.45l-7.72 7.72c-.78.78-.78 2.05 0 2.83L4 21.41c.39.39.9.59 1.41.59.51 0 1.02-.2 1.41-.59l7.78-7.78 2.81-2.81c.8-.78.8-2.07 0-2.86zM5.41 20L4 18.59l7.72-7.72 1.47 1.35L5.41 20z\"/>\n",
              "  </svg>\n",
              "      </button>\n",
              "      \n",
              "  <style>\n",
              "    .colab-df-container {\n",
              "      display:flex;\n",
              "      flex-wrap:wrap;\n",
              "      gap: 12px;\n",
              "    }\n",
              "\n",
              "    .colab-df-convert {\n",
              "      background-color: #E8F0FE;\n",
              "      border: none;\n",
              "      border-radius: 50%;\n",
              "      cursor: pointer;\n",
              "      display: none;\n",
              "      fill: #1967D2;\n",
              "      height: 32px;\n",
              "      padding: 0 0 0 0;\n",
              "      width: 32px;\n",
              "    }\n",
              "\n",
              "    .colab-df-convert:hover {\n",
              "      background-color: #E2EBFA;\n",
              "      box-shadow: 0px 1px 2px rgba(60, 64, 67, 0.3), 0px 1px 3px 1px rgba(60, 64, 67, 0.15);\n",
              "      fill: #174EA6;\n",
              "    }\n",
              "\n",
              "    [theme=dark] .colab-df-convert {\n",
              "      background-color: #3B4455;\n",
              "      fill: #D2E3FC;\n",
              "    }\n",
              "\n",
              "    [theme=dark] .colab-df-convert:hover {\n",
              "      background-color: #434B5C;\n",
              "      box-shadow: 0px 1px 3px 1px rgba(0, 0, 0, 0.15);\n",
              "      filter: drop-shadow(0px 1px 2px rgba(0, 0, 0, 0.3));\n",
              "      fill: #FFFFFF;\n",
              "    }\n",
              "  </style>\n",
              "\n",
              "      <script>\n",
              "        const buttonEl =\n",
              "          document.querySelector('#df-24eb0eae-1e58-4d1f-8ee6-94ab7717e604 button.colab-df-convert');\n",
              "        buttonEl.style.display =\n",
              "          google.colab.kernel.accessAllowed ? 'block' : 'none';\n",
              "\n",
              "        async function convertToInteractive(key) {\n",
              "          const element = document.querySelector('#df-24eb0eae-1e58-4d1f-8ee6-94ab7717e604');\n",
              "          const dataTable =\n",
              "            await google.colab.kernel.invokeFunction('convertToInteractive',\n",
              "                                                     [key], {});\n",
              "          if (!dataTable) return;\n",
              "\n",
              "          const docLinkHtml = 'Like what you see? Visit the ' +\n",
              "            '<a target=\"_blank\" href=https://colab.research.google.com/notebooks/data_table.ipynb>data table notebook</a>'\n",
              "            + ' to learn more about interactive tables.';\n",
              "          element.innerHTML = '';\n",
              "          dataTable['output_type'] = 'display_data';\n",
              "          await google.colab.output.renderOutput(dataTable, element);\n",
              "          const docLink = document.createElement('div');\n",
              "          docLink.innerHTML = docLinkHtml;\n",
              "          element.appendChild(docLink);\n",
              "        }\n",
              "      </script>\n",
              "    </div>\n",
              "  </div>\n",
              "  "
            ],
            "text/plain": [
              "                 id         label\n",
              "count  20800.000000  20800.000000\n",
              "mean   10399.500000      0.500625\n",
              "std     6004.587135      0.500012\n",
              "min        0.000000      0.000000\n",
              "25%     5199.750000      0.000000\n",
              "50%    10399.500000      1.000000\n",
              "75%    15599.250000      1.000000\n",
              "max    20799.000000      1.000000"
            ]
          },
          "metadata": {},
          "execution_count": 16
        }
      ]
    },
    {
      "cell_type": "code",
      "source": [
        "#Now in the dataset we have 4 main columns title, author, text and label(0/1)\n",
        "#lets merge title and author into one column for the prediction\n",
        "fake_real_dataset['Author_title']= fake_real_dataset['author']+' '+fake_real_dataset['title']\n",
        "print(fake_real_dataset['Author_title'])"
      ],
      "metadata": {
        "id": "xWXAQK4s0H95",
        "colab": {
          "base_uri": "https://localhost:8080/"
        },
        "outputId": "33a3824f-a849-4c67-a438-e972b838f684"
      },
      "execution_count": null,
      "outputs": [
        {
          "output_type": "stream",
          "name": "stdout",
          "text": [
            "0        Darrell Lucus House Dem Aide: We Didn’t Even S...\n",
            "1        Daniel J. Flynn FLYNN: Hillary Clinton, Big Wo...\n",
            "2        Consortiumnews.com Why the Truth Might Get You...\n",
            "3        Jessica Purkiss 15 Civilians Killed In Single ...\n",
            "4        Howard Portnoy Iranian woman jailed for fictio...\n",
            "                               ...                        \n",
            "20795    Jerome Hudson Rapper T.I.: Trump a ’Poster Chi...\n",
            "20796    Benjamin Hoffman N.F.L. Playoffs: Schedule, Ma...\n",
            "20797    Michael J. de la Merced and Rachel Abrams Macy...\n",
            "20798    Alex Ansary NATO, Russia To Hold Parallel Exer...\n",
            "20799              David Swanson What Keeps the F-35 Alive\n",
            "Name: Author_title, Length: 20800, dtype: object\n"
          ]
        }
      ]
    },
    {
      "cell_type": "code",
      "source": [
        "X_label_dropped=fake_real_dataset.drop('label',axis=1)\n",
        "Y_label_storage=fake_real_dataset['label']"
      ],
      "metadata": {
        "id": "gfNYiQIY0Qde"
      },
      "execution_count": null,
      "outputs": []
    },
    {
      "cell_type": "code",
      "source": [
        "print(Y_label_storage)\n",
        "print(X_label_dropped)"
      ],
      "metadata": {
        "id": "J4AChBoF0WXM",
        "colab": {
          "base_uri": "https://localhost:8080/"
        },
        "outputId": "e69c0d36-c3ab-4215-9937-ee47224a0012"
      },
      "execution_count": null,
      "outputs": [
        {
          "output_type": "stream",
          "name": "stdout",
          "text": [
            "0        1\n",
            "1        0\n",
            "2        1\n",
            "3        1\n",
            "4        1\n",
            "        ..\n",
            "20795    0\n",
            "20796    0\n",
            "20797    0\n",
            "20798    1\n",
            "20799    1\n",
            "Name: label, Length: 20800, dtype: int64\n",
            "          id  ...                                       Author_title\n",
            "0          0  ...  Darrell Lucus House Dem Aide: We Didn’t Even S...\n",
            "1          1  ...  Daniel J. Flynn FLYNN: Hillary Clinton, Big Wo...\n",
            "2          2  ...  Consortiumnews.com Why the Truth Might Get You...\n",
            "3          3  ...  Jessica Purkiss 15 Civilians Killed In Single ...\n",
            "4          4  ...  Howard Portnoy Iranian woman jailed for fictio...\n",
            "...      ...  ...                                                ...\n",
            "20795  20795  ...  Jerome Hudson Rapper T.I.: Trump a ’Poster Chi...\n",
            "20796  20796  ...  Benjamin Hoffman N.F.L. Playoffs: Schedule, Ma...\n",
            "20797  20797  ...  Michael J. de la Merced and Rachel Abrams Macy...\n",
            "20798  20798  ...  Alex Ansary NATO, Russia To Hold Parallel Exer...\n",
            "20799  20799  ...            David Swanson What Keeps the F-35 Alive\n",
            "\n",
            "[20800 rows x 5 columns]\n"
          ]
        }
      ]
    },
    {
      "cell_type": "code",
      "source": [
        "#removing all the prefix and suffix using stemmer\n",
        "stem_dataset=PorterStemmer()"
      ],
      "metadata": {
        "id": "5YE4_YIi0fHr"
      },
      "execution_count": null,
      "outputs": []
    },
    {
      "cell_type": "code",
      "source": [
        "#defining a function for stemming and exlcluding the stop words in the dataset and eliminating the numbers,special characters\n",
        "#using regular expression\n",
        "\n",
        "def stemming(Dataset):\n",
        "    Stemmed_Dataset=re.sub('[^a-zA-Z]',' ',Dataset)\n",
        "    Stemmed_Dataset=Stemmed_Dataset.lower()\n",
        "    Stemmed_Dataset=Stemmed_Dataset.split()\n",
        "    #Now lets stemm the dataset plus eliminate all the stop words using for loop\n",
        "    Stemmed_Dataset = [stem_dataset.stem(word) for word in Stemmed_Dataset if not word in stopwords.words('english')]\n",
        "    Stemmed_Dataset = ' '.join(Stemmed_Dataset)\n",
        "    return Stemmed_Dataset"
      ],
      "metadata": {
        "id": "LqxNETQU0ghS"
      },
      "execution_count": null,
      "outputs": []
    },
    {
      "cell_type": "code",
      "source": [
        "# apply the stemmed dataset to the real dataset\n",
        "fake_real_dataset['Author_title'] = fake_real_dataset['Author_title'].apply(stemming)"
      ],
      "metadata": {
        "id": "7KlRPMMm0kNO"
      },
      "execution_count": null,
      "outputs": []
    },
    {
      "cell_type": "code",
      "source": [
        "print(fake_real_dataset['Author_title'])"
      ],
      "metadata": {
        "id": "bjn_BUNe0xVL",
        "colab": {
          "base_uri": "https://localhost:8080/"
        },
        "outputId": "0beb1433-5e42-4ece-a72d-8b420b864324"
      },
      "execution_count": null,
      "outputs": [
        {
          "output_type": "stream",
          "name": "stdout",
          "text": [
            "0        darrel lucu hous dem aid even see comey letter...\n",
            "1        daniel j flynn flynn hillari clinton big woman...\n",
            "2                   consortiumnew com truth might get fire\n",
            "3        jessica purkiss civilian kill singl us airstri...\n",
            "4        howard portnoy iranian woman jail fiction unpu...\n",
            "                               ...                        \n",
            "20795    jerom hudson rapper trump poster child white s...\n",
            "20796    benjamin hoffman n f l playoff schedul matchup...\n",
            "20797    michael j de la merc rachel abram maci said re...\n",
            "20798    alex ansari nato russia hold parallel exercis ...\n",
            "20799                            david swanson keep f aliv\n",
            "Name: Author_title, Length: 20800, dtype: object\n"
          ]
        }
      ]
    },
    {
      "cell_type": "code",
      "source": [
        "X=fake_real_dataset['Author_title'].values\n",
        "Y=fake_real_dataset['label'].values"
      ],
      "metadata": {
        "id": "d-EZAl3D0_D3"
      },
      "execution_count": null,
      "outputs": []
    },
    {
      "cell_type": "code",
      "source": [
        "print(X)"
      ],
      "metadata": {
        "id": "T004k91Z00tc",
        "colab": {
          "base_uri": "https://localhost:8080/"
        },
        "outputId": "556e6b96-4cb9-485e-8827-fb3f3dc70abd"
      },
      "execution_count": null,
      "outputs": [
        {
          "output_type": "stream",
          "name": "stdout",
          "text": [
            "['darrel lucu hous dem aid even see comey letter jason chaffetz tweet'\n",
            " 'daniel j flynn flynn hillari clinton big woman campu breitbart'\n",
            " 'consortiumnew com truth might get fire' ...\n",
            " 'michael j de la merc rachel abram maci said receiv takeov approach hudson bay new york time'\n",
            " 'alex ansari nato russia hold parallel exercis balkan'\n",
            " 'david swanson keep f aliv']\n"
          ]
        }
      ]
    },
    {
      "cell_type": "code",
      "source": [
        "print(Y)"
      ],
      "metadata": {
        "id": "PJRL2R1I1A4A",
        "colab": {
          "base_uri": "https://localhost:8080/"
        },
        "outputId": "3e2b8ba7-5da8-4933-9140-708236908675"
      },
      "execution_count": null,
      "outputs": [
        {
          "output_type": "stream",
          "name": "stdout",
          "text": [
            "[1 0 1 ... 0 1 1]\n"
          ]
        }
      ]
    },
    {
      "cell_type": "code",
      "source": [
        "from sklearn.feature_extraction.text import TfidfVectorizer\n",
        "Vectorizer=TfidfVectorizer()\n",
        "Vectorizer.fit(X)\n",
        "X=Vectorizer.transform(X)"
      ],
      "metadata": {
        "id": "bWX00w2E1C_h"
      },
      "execution_count": null,
      "outputs": []
    },
    {
      "cell_type": "code",
      "source": [
        "print(X)"
      ],
      "metadata": {
        "id": "zLGSFTmv1Ip9",
        "colab": {
          "base_uri": "https://localhost:8080/"
        },
        "outputId": "b3c8cd6b-01a1-46dc-94e3-ee1c2b523ff8"
      },
      "execution_count": null,
      "outputs": [
        {
          "output_type": "stream",
          "name": "stdout",
          "text": [
            "  (0, 15686)\t0.28485063562728646\n",
            "  (0, 13473)\t0.2565896679337957\n",
            "  (0, 8909)\t0.3635963806326075\n",
            "  (0, 8630)\t0.29212514087043684\n",
            "  (0, 7692)\t0.24785219520671603\n",
            "  (0, 7005)\t0.21874169089359144\n",
            "  (0, 4973)\t0.233316966909351\n",
            "  (0, 3792)\t0.2705332480845492\n",
            "  (0, 3600)\t0.3598939188262559\n",
            "  (0, 2959)\t0.2468450128533713\n",
            "  (0, 2483)\t0.3676519686797209\n",
            "  (0, 267)\t0.27010124977708766\n",
            "  (1, 16799)\t0.30071745655510157\n",
            "  (1, 6816)\t0.1904660198296849\n",
            "  (1, 5503)\t0.7143299355715573\n",
            "  (1, 3568)\t0.26373768806048464\n",
            "  (1, 2813)\t0.19094574062359204\n",
            "  (1, 2223)\t0.3827320386859759\n",
            "  (1, 1894)\t0.15521974226349364\n",
            "  (1, 1497)\t0.2939891562094648\n",
            "  (2, 15611)\t0.41544962664721613\n",
            "  (2, 9620)\t0.49351492943649944\n",
            "  (2, 5968)\t0.3474613386728292\n",
            "  (2, 5389)\t0.3866530551182615\n",
            "  (2, 3103)\t0.46097489583229645\n",
            "  :\t:\n",
            "  (20797, 13122)\t0.2482526352197606\n",
            "  (20797, 12344)\t0.27263457663336677\n",
            "  (20797, 12138)\t0.24778257724396507\n",
            "  (20797, 10306)\t0.08038079000566466\n",
            "  (20797, 9588)\t0.174553480255222\n",
            "  (20797, 9518)\t0.2954204003420313\n",
            "  (20797, 8988)\t0.36160868928090795\n",
            "  (20797, 8364)\t0.22322585870464118\n",
            "  (20797, 7042)\t0.21799048897828688\n",
            "  (20797, 3643)\t0.21155500613623743\n",
            "  (20797, 1287)\t0.33538056804139865\n",
            "  (20797, 699)\t0.30685846079762347\n",
            "  (20797, 43)\t0.29710241860700626\n",
            "  (20798, 13046)\t0.22363267488270608\n",
            "  (20798, 11052)\t0.4460515589182236\n",
            "  (20798, 10177)\t0.3192496370187028\n",
            "  (20798, 6889)\t0.32496285694299426\n",
            "  (20798, 5032)\t0.4083701450239529\n",
            "  (20798, 1125)\t0.4460515589182236\n",
            "  (20798, 588)\t0.3112141524638974\n",
            "  (20798, 350)\t0.28446937819072576\n",
            "  (20799, 14852)\t0.5677577267055112\n",
            "  (20799, 8036)\t0.45983893273780013\n",
            "  (20799, 3623)\t0.37927626273066584\n",
            "  (20799, 377)\t0.5677577267055112\n"
          ]
        }
      ]
    },
    {
      "cell_type": "code",
      "source": [
        "#splitting the dataset to training and test data--------LR\n",
        "X_train, X_test, Y_train, Y_test = train_test_split(X, Y, test_size = 0.2, stratify=Y, random_state=4)"
      ],
      "metadata": {
        "id": "fSHC91_B1LzE"
      },
      "execution_count": null,
      "outputs": []
    },
    {
      "cell_type": "markdown",
      "source": [
        "#Logistic Regression"
      ],
      "metadata": {
        "id": "bkSU5k8gQv2w"
      }
    },
    {
      "cell_type": "code",
      "source": [
        "#Our first model -Logistic Regression\n",
        "#Training the models:\n",
        "from sklearn.linear_model import LogisticRegression\n",
        "LR_model = LogisticRegression()"
      ],
      "metadata": {
        "id": "qT_g_xL81R-_"
      },
      "execution_count": null,
      "outputs": []
    },
    {
      "cell_type": "code",
      "source": [
        "LR_model.fit(X_train,Y_train)\n",
        "LR_Train_Prediction = LR_model.predict(X_train)\n",
        "print(LR_Train_Prediction)"
      ],
      "metadata": {
        "id": "jMA7HpNM2Rdc",
        "colab": {
          "base_uri": "https://localhost:8080/"
        },
        "outputId": "f8b6aad4-a1f4-43c7-e621-15ba5eb819c5"
      },
      "execution_count": null,
      "outputs": [
        {
          "output_type": "stream",
          "name": "stdout",
          "text": [
            "[0 0 1 ... 1 1 0]\n"
          ]
        }
      ]
    },
    {
      "cell_type": "code",
      "source": [
        "#Classification report\n",
        "print('Classification report')\n",
        "print(classification_report(Y_train,LR_Train_Prediction))\n",
        "print('\\n')\n",
        "print('Confusion matrix')\n",
        "print(confusion_matrix(Y_train,LR_Train_Prediction))"
      ],
      "metadata": {
        "id": "cExmxfax2TG5",
        "colab": {
          "base_uri": "https://localhost:8080/"
        },
        "outputId": "4f303b1d-7de5-4e90-eba8-98379c9f6790"
      },
      "execution_count": null,
      "outputs": [
        {
          "output_type": "stream",
          "name": "stdout",
          "text": [
            "Classification report\n",
            "              precision    recall  f1-score   support\n",
            "\n",
            "           0       0.99      0.98      0.99      8310\n",
            "           1       0.98      0.99      0.99      8330\n",
            "\n",
            "    accuracy                           0.99     16640\n",
            "   macro avg       0.99      0.99      0.99     16640\n",
            "weighted avg       0.99      0.99      0.99     16640\n",
            "\n",
            "\n",
            "\n",
            "Confusion matrix\n",
            "[[8142  168]\n",
            " [  47 8283]]\n"
          ]
        }
      ]
    },
    {
      "cell_type": "code",
      "source": [
        "prediction_LR_Test = LR_model.predict(X_test)\n",
        "print(prediction_LR_Test)\n"
      ],
      "metadata": {
        "id": "MxR9q-5D2ZiY",
        "colab": {
          "base_uri": "https://localhost:8080/"
        },
        "outputId": "ddacf8fb-a1de-4fb2-dc59-0d7989a8d9cc"
      },
      "execution_count": null,
      "outputs": [
        {
          "output_type": "stream",
          "name": "stdout",
          "text": [
            "[0 1 1 ... 1 0 0]\n"
          ]
        }
      ]
    },
    {
      "cell_type": "code",
      "source": [
        "print('Classification report')\n",
        "print(classification_report(Y_test,prediction_LR_Test))\n",
        "print('\\n')\n",
        "print('Confusion matrix')\n",
        "print(confusion_matrix(Y_test,prediction_LR_Test))"
      ],
      "metadata": {
        "id": "WVjkuZe82cbu",
        "colab": {
          "base_uri": "https://localhost:8080/"
        },
        "outputId": "44c84dbc-80c2-462d-b784-8ef951811316"
      },
      "execution_count": null,
      "outputs": [
        {
          "output_type": "stream",
          "name": "stdout",
          "text": [
            "Classification report\n",
            "              precision    recall  f1-score   support\n",
            "\n",
            "           0       0.99      0.96      0.97      2077\n",
            "           1       0.96      0.99      0.97      2083\n",
            "\n",
            "    accuracy                           0.97      4160\n",
            "   macro avg       0.97      0.97      0.97      4160\n",
            "weighted avg       0.97      0.97      0.97      4160\n",
            "\n",
            "\n",
            "\n",
            "Confusion matrix\n",
            "[[1989   88]\n",
            " [  19 2064]]\n"
          ]
        }
      ]
    },
    {
      "cell_type": "code",
      "source": [
        "#Confusion Matrix\n",
        "\n",
        "import matplotlib.pyplot as plt\n",
        "cm=confusion_matrix(Y_test,prediction_LR_Test)\n",
        "import seaborn as sn\n",
        "plt.figure(figsize=(5,5))\n",
        "fg=sn.heatmap(cm,annot=True,cmap='Blues')\n",
        "figure = fg.get_figure()\n",
        "plt.xlabel(\"Predicted\")\n",
        "plt.ylabel(\"Truth\")"
      ],
      "metadata": {
        "id": "tDv-N_GK2dFW",
        "colab": {
          "base_uri": "https://localhost:8080/",
          "height": 351
        },
        "outputId": "d45bf970-d4e9-4f7e-f0ae-9e808865d39e"
      },
      "execution_count": null,
      "outputs": [
        {
          "output_type": "execute_result",
          "data": {
            "text/plain": [
              "Text(24.0, 0.5, 'Truth')"
            ]
          },
          "metadata": {},
          "execution_count": 35
        },
        {
          "output_type": "display_data",
          "data": {
            "image/png": "[encoded data removed]",
            "text/plain": [
              "<Figure size 360x360 with 2 Axes>"
            ]
          },
          "metadata": {
            "needs_background": "light"
          }
        }
      ]
    },
    {
      "cell_type": "code",
      "source": [
        "#Performance metrics:\n",
        "from sklearn.metrics import accuracy_score\n",
        "accuracy = accuracy_score(Y_test,prediction_LR_Test)*100\n",
        "print(f'model accuracy is : {accuracy.round()} %')"
      ],
      "metadata": {
        "id": "2bOTCAUi2jw7",
        "colab": {
          "base_uri": "https://localhost:8080/"
        },
        "outputId": "f6cbbebb-238c-40ae-95cf-1630f36fa0bb"
      },
      "execution_count": null,
      "outputs": [
        {
          "output_type": "stream",
          "name": "stdout",
          "text": [
            "model accuracy is : 97.0 %\n"
          ]
        }
      ]
    },
    {
      "cell_type": "code",
      "source": [
        "from sklearn.metrics import f1_score\n",
        "score = f1_score(Y_test,prediction_LR_Test, average='binary')\n",
        "print('F-Measure for LR : %.3f' % score)\n",
        "\n",
        "from sklearn.metrics import recall_score\n",
        "recall = recall_score(Y_test,prediction_LR_Test, average='binary')\n",
        "print('Recall for LR: %.3f' % recall)\n",
        "\n",
        "\n",
        "from sklearn.metrics import precision_score\n",
        "precision = precision_score(Y_test,prediction_LR_Test, average='binary')\n",
        "print('Precision for LR: %.3f' % precision)"
      ],
      "metadata": {
        "id": "95kiR1Q025P2",
        "colab": {
          "base_uri": "https://localhost:8080/"
        },
        "outputId": "92f2d5b0-d3e2-4ffc-ca84-ee761a2860a3"
      },
      "execution_count": null,
      "outputs": [
        {
          "output_type": "stream",
          "name": "stdout",
          "text": [
            "F-Measure for LR : 0.975\n",
            "Recall for LR: 0.991\n",
            "Precision for LR: 0.959\n"
          ]
        }
      ]
    },
    {
      "cell_type": "markdown",
      "source": [
        "#CV Method"
      ],
      "metadata": {
        "id": "NI0NuWw53Qih"
      }
    },
    {
      "cell_type": "code",
      "source": [
        "log_reg = LogisticRegression()\n",
        "scores = cross_val_score(log_reg, X, Y , cv = 10, scoring= 'accuracy')\n",
        "print(scores)\n",
        "print(scores.mean())"
      ],
      "metadata": {
        "id": "eKi3egLE3SoK",
        "colab": {
          "base_uri": "https://localhost:8080/"
        },
        "outputId": "7eebe7dd-2a40-4559-d878-bd63362adbb7"
      },
      "execution_count": null,
      "outputs": [
        {
          "output_type": "stream",
          "name": "stdout",
          "text": [
            "[0.97932692 0.97692308 0.97692308 0.97596154 0.98221154 0.97740385\n",
            " 0.97932692 0.97788462 0.97596154 0.97884615]\n",
            "0.9780769230769231\n"
          ]
        }
      ]
    },
    {
      "cell_type": "code",
      "source": [
        "import matplotlib.pyplot as plt\n",
        "cm=confusion_matrix(Y_test,prediction_LR_Test)\n",
        "import seaborn as sn\n",
        "plt.figure(figsize=(5,5))\n",
        "fg=sn.heatmap(cm,annot=True,cmap='Blues')\n",
        "figure = fg.get_figure()\n",
        "plt.xlabel(\"Predicted\")\n",
        "plt.ylabel(\"Truth\")"
      ],
      "metadata": {
        "id": "1z0EyntV4EgA",
        "colab": {
          "base_uri": "https://localhost:8080/",
          "height": 351
        },
        "outputId": "212b7d0d-4c05-4375-df42-f3439ccc12fa"
      },
      "execution_count": null,
      "outputs": [
        {
          "output_type": "execute_result",
          "data": {
            "text/plain": [
              "Text(24.0, 0.5, 'Truth')"
            ]
          },
          "metadata": {},
          "execution_count": 39
        },
        {
          "output_type": "display_data",
          "data": {
            "image/png": "[encoded data removed]",
            "text/plain": [
              "<Figure size 360x360 with 2 Axes>"
            ]
          },
          "metadata": {
            "needs_background": "light"
          }
        }
      ]
    },
    {
      "cell_type": "code",
      "source": [
        "#Accuracy\n",
        "from sklearn.metrics import accuracy_score\n",
        "accuracy = accuracy_score(Y_test,prediction_LR_Test)*100\n",
        "print(f'model accuracy is : {accuracy.round()} %')"
      ],
      "metadata": {
        "id": "_N_Lvx4D4lbN",
        "colab": {
          "base_uri": "https://localhost:8080/"
        },
        "outputId": "9e9a9a33-c5e9-4989-fd68-d95791a8fa74"
      },
      "execution_count": null,
      "outputs": [
        {
          "output_type": "stream",
          "name": "stdout",
          "text": [
            "model accuracy is : 97.0 %\n"
          ]
        }
      ]
    },
    {
      "cell_type": "code",
      "source": [
        "from sklearn.metrics import f1_score\n",
        "score = f1_score(Y_test,prediction_LR_Test, average='binary')\n",
        "print('F-Measure for LR : %.3f' % score)\n",
        "\n",
        "from sklearn.metrics import recall_score\n",
        "recall = recall_score(Y_test,prediction_LR_Test, average='binary')\n",
        "print('Recall for LR: %.3f' % recall)\n",
        "\n",
        "from sklearn.metrics import precision_score\n",
        "precision = precision_score(Y_test,prediction_LR_Test, average='binary')\n",
        "print('Precision for LR: %.3f' % precision)"
      ],
      "metadata": {
        "id": "-J8dCSXZ4v3v",
        "colab": {
          "base_uri": "https://localhost:8080/"
        },
        "outputId": "6179dc6d-fbfc-4d8f-e65e-81b12b866b3e"
      },
      "execution_count": null,
      "outputs": [
        {
          "output_type": "stream",
          "name": "stdout",
          "text": [
            "F-Measure for LR : 0.975\n",
            "Recall for LR: 0.991\n",
            "Precision for LR: 0.959\n"
          ]
        }
      ]
    },
    {
      "cell_type": "markdown",
      "source": [
        "#Support vector Machine"
      ],
      "metadata": {
        "id": "F85HivB05W-H"
      }
    },
    {
      "cell_type": "code",
      "source": [
        "from sklearn import svm\n",
        "SVM_model=svm.SVC(kernel='linear')\n",
        "SVM_model.fit(X_train,Y_train)"
      ],
      "metadata": {
        "id": "EjIGjO5e5c99",
        "colab": {
          "base_uri": "https://localhost:8080/"
        },
        "outputId": "8bc39793-07c8-4e1a-e05c-e12f4515c80b"
      },
      "execution_count": null,
      "outputs": [
        {
          "output_type": "execute_result",
          "data": {
            "text/plain": [
              "SVC(kernel='linear')"
            ]
          },
          "metadata": {},
          "execution_count": 40
        }
      ]
    },
    {
      "cell_type": "code",
      "source": [
        "SVM_train_Predcition=SVM_model.predict(X_train)\n",
        "print(SVM_train_Predcition)"
      ],
      "metadata": {
        "id": "ezzzV6Dx7rzK",
        "colab": {
          "base_uri": "https://localhost:8080/"
        },
        "outputId": "11b79b22-ec41-488e-f356-c64040ac9a87"
      },
      "execution_count": null,
      "outputs": [
        {
          "output_type": "stream",
          "name": "stdout",
          "text": [
            "[0 0 1 ... 1 1 0]\n"
          ]
        }
      ]
    },
    {
      "cell_type": "code",
      "source": [
        "#Training\n",
        "print('Classification report')\n",
        "print(classification_report(Y_train,SVM_train_Predcition))\n",
        "print('\\n')\n",
        "print('Confusion matrix')\n",
        "print(confusion_matrix(Y_train,SVM_train_Predcition))"
      ],
      "metadata": {
        "id": "55-OY66v75B2",
        "colab": {
          "base_uri": "https://localhost:8080/"
        },
        "outputId": "c15dc776-8ada-4563-b8b5-7350edfd10db"
      },
      "execution_count": null,
      "outputs": [
        {
          "output_type": "stream",
          "name": "stdout",
          "text": [
            "Classification report\n",
            "              precision    recall  f1-score   support\n",
            "\n",
            "           0       1.00      1.00      1.00      8310\n",
            "           1       1.00      1.00      1.00      8330\n",
            "\n",
            "    accuracy                           1.00     16640\n",
            "   macro avg       1.00      1.00      1.00     16640\n",
            "weighted avg       1.00      1.00      1.00     16640\n",
            "\n",
            "\n",
            "\n",
            "Confusion matrix\n",
            "[[8294   16]\n",
            " [  30 8300]]\n"
          ]
        }
      ]
    },
    {
      "cell_type": "code",
      "source": [
        "#testing\n",
        "SVM_test_Predcition=SVM_model.predict(X_test)\n",
        "print(SVM_test_Predcition)"
      ],
      "metadata": {
        "id": "KNHR6P4Z76-x",
        "colab": {
          "base_uri": "https://localhost:8080/"
        },
        "outputId": "748e8bbe-f4c6-41ef-bf7d-83e6e7998ba7"
      },
      "execution_count": null,
      "outputs": [
        {
          "output_type": "stream",
          "name": "stdout",
          "text": [
            "[0 1 1 ... 1 0 0]\n"
          ]
        }
      ]
    },
    {
      "cell_type": "code",
      "source": [
        "#Classification Report\n",
        "print('Classification report')\n",
        "print(classification_report(Y_test,SVM_test_Predcition))\n",
        "print('\\n')\n",
        "print('Confusion matrix')\n",
        "print(confusion_matrix(Y_test,SVM_test_Predcition))"
      ],
      "metadata": {
        "id": "A0VJnu_17-5r",
        "colab": {
          "base_uri": "https://localhost:8080/"
        },
        "outputId": "1311f722-0ae1-45a8-bfcb-3875dfbc1ab0"
      },
      "execution_count": null,
      "outputs": [
        {
          "output_type": "stream",
          "name": "stdout",
          "text": [
            "Classification report\n",
            "              precision    recall  f1-score   support\n",
            "\n",
            "           0       1.00      0.99      0.99      2077\n",
            "           1       0.99      1.00      0.99      2083\n",
            "\n",
            "    accuracy                           0.99      4160\n",
            "   macro avg       0.99      0.99      0.99      4160\n",
            "weighted avg       0.99      0.99      0.99      4160\n",
            "\n",
            "\n",
            "\n",
            "Confusion matrix\n",
            "[[2051   26]\n",
            " [   8 2075]]\n"
          ]
        }
      ]
    },
    {
      "cell_type": "markdown",
      "source": [
        "#CV Method SVM"
      ],
      "metadata": {
        "id": "PANnXiIR8VZ1"
      }
    },
    {
      "cell_type": "code",
      "source": [
        "model=svm.SVC(kernel='linear')\n",
        "scores = cross_val_score(model, X, Y , cv = 10, scoring= 'accuracy')\n",
        "print(\"%0.2f accuracy with a standard deviation of %0.2f\" % (scores.mean(), scores.std()))"
      ],
      "metadata": {
        "id": "VbccyLeu8ZL-",
        "colab": {
          "base_uri": "https://localhost:8080/"
        },
        "outputId": "4ab5f3d5-a53a-47a5-8a1e-e04d90f13db8"
      },
      "execution_count": null,
      "outputs": [
        {
          "output_type": "stream",
          "name": "stdout",
          "text": [
            "0.99 accuracy with a standard deviation of 0.00\n"
          ]
        }
      ]
    },
    {
      "cell_type": "code",
      "source": [
        "import matplotlib.pyplot as plt\n",
        "cm=confusion_matrix(Y_test,SVM_test_Predcition)\n",
        "import seaborn as sn\n",
        "plt.figure(figsize=(5,5))\n",
        "fg=sn.heatmap(cm,annot=True,cmap='Blues')\n",
        "figure = fg.get_figure()\n",
        "plt.xlabel(\"Predicted\")\n",
        "plt.ylabel(\"Truth\")"
      ],
      "metadata": {
        "id": "qG9wwfOp8rFo",
        "colab": {
          "base_uri": "https://localhost:8080/",
          "height": 351
        },
        "outputId": "0d95f474-61ad-46de-ac2d-c450f6be9ece"
      },
      "execution_count": null,
      "outputs": [
        {
          "output_type": "execute_result",
          "data": {
            "text/plain": [
              "Text(24.0, 0.5, 'Truth')"
            ]
          },
          "metadata": {},
          "execution_count": 93
        },
        {
          "output_type": "display_data",
          "data": {
            "image/png": "[encoded data removed]",
            "text/plain": [
              "<Figure size 360x360 with 2 Axes>"
            ]
          },
          "metadata": {
            "needs_background": "light"
          }
        }
      ]
    },
    {
      "cell_type": "code",
      "source": [
        "#Accuracy\n",
        "from sklearn.metrics import accuracy_score\n",
        "accuracy = accuracy_score(Y_test,SVM_test_Predcition)*100\n",
        "print(f'model accuracy is : {accuracy.round()} %')\n",
        "\n",
        "#f1, precesion, recall\n",
        "from sklearn.metrics import f1_score\n",
        "score = f1_score(Y_test,SVM_test_Predcition, average='binary')\n",
        "print('F-Measure for SVM : %.3f' % score)\n",
        "\n",
        "from sklearn.metrics import recall_score\n",
        "recall = recall_score(Y_test,SVM_test_Predcition, average='binary')\n",
        "print('Recall for SVM: %.3f' % recall)\n",
        "\n",
        "\n",
        "from sklearn.metrics import precision_score\n",
        "precision = precision_score(Y_test,SVM_test_Predcition, average='binary')\n",
        "print('Precision for SVM: %.3f' % precision)"
      ],
      "metadata": {
        "id": "LfmsyBqj-J3v",
        "colab": {
          "base_uri": "https://localhost:8080/"
        },
        "outputId": "31eca517-7b71-4845-dd86-54e60c1907b5"
      },
      "execution_count": null,
      "outputs": [
        {
          "output_type": "stream",
          "name": "stdout",
          "text": [
            "model accuracy is : 99.0 %\n",
            "F-Measure for SVM : 0.992\n",
            "Recall for SVM: 0.996\n",
            "Precision for SVM: 0.988\n"
          ]
        }
      ]
    },
    {
      "cell_type": "markdown",
      "source": [
        "#Decesion Tree\n"
      ],
      "metadata": {
        "id": "_DBBfYsv-X4p"
      }
    },
    {
      "cell_type": "code",
      "source": [
        "#Decesion Tree\n",
        "from sklearn.tree import DecisionTreeClassifier"
      ],
      "metadata": {
        "id": "-RY2ZQh5-fGU"
      },
      "execution_count": null,
      "outputs": []
    },
    {
      "cell_type": "code",
      "source": [
        "DT_model = DecisionTreeClassifier()"
      ],
      "metadata": {
        "id": "tw4xB7O_-htu"
      },
      "execution_count": null,
      "outputs": []
    },
    {
      "cell_type": "code",
      "source": [
        "DT_model.fit(X_train,Y_train)\n",
        "dt_train_prediction = DT_model.predict(X_train)\n",
        "print(dt_train_prediction)\n"
      ],
      "metadata": {
        "id": "ZF4nMw5z-jlH",
        "colab": {
          "base_uri": "https://localhost:8080/"
        },
        "outputId": "60142ced-808a-45a5-9e8c-f8133f390de6"
      },
      "execution_count": null,
      "outputs": [
        {
          "output_type": "stream",
          "name": "stdout",
          "text": [
            "[0 0 1 ... 1 1 0]\n"
          ]
        }
      ]
    },
    {
      "cell_type": "code",
      "source": [
        "#Classifcation Report:\n",
        "\n",
        "print('Classification report')\n",
        "print(classification_report(Y_train,dt_train_prediction))\n",
        "print('\\n')\n",
        "print('Confusion matrix')\n",
        "print(confusion_matrix(Y_train,dt_train_prediction))"
      ],
      "metadata": {
        "id": "Xek2odqS-mW5",
        "colab": {
          "base_uri": "https://localhost:8080/"
        },
        "outputId": "36f86f89-b683-499e-dc7d-7946afbc06a4"
      },
      "execution_count": null,
      "outputs": [
        {
          "output_type": "stream",
          "name": "stdout",
          "text": [
            "Classification report\n",
            "              precision    recall  f1-score   support\n",
            "\n",
            "           0       1.00      1.00      1.00      8310\n",
            "           1       1.00      1.00      1.00      8330\n",
            "\n",
            "    accuracy                           1.00     16640\n",
            "   macro avg       1.00      1.00      1.00     16640\n",
            "weighted avg       1.00      1.00      1.00     16640\n",
            "\n",
            "\n",
            "\n",
            "Confusion matrix\n",
            "[[8310    0]\n",
            " [   0 8330]]\n"
          ]
        }
      ]
    },
    {
      "cell_type": "code",
      "source": [
        "#testing dataset\n",
        "dt_prediction_test = DT_model.predict(X_test)\n",
        "print(dt_prediction_test)"
      ],
      "metadata": {
        "id": "t9TRmwxa-pGa"
      },
      "execution_count": null,
      "outputs": []
    },
    {
      "cell_type": "code",
      "source": [
        "print('Classification report')\n",
        "print(classification_report(Y_test,dt_prediction_test))\n",
        "print('\\n')\n",
        "print('Confusion matrix')\n",
        "print(confusion_matrix(Y_test,dt_prediction_test))"
      ],
      "metadata": {
        "id": "UbFfm0fF-r0_",
        "colab": {
          "base_uri": "https://localhost:8080/"
        },
        "outputId": "1a754f1a-a9b8-468f-914b-0eb42d81295a"
      },
      "execution_count": null,
      "outputs": [
        {
          "output_type": "stream",
          "name": "stdout",
          "text": [
            "Classification report\n",
            "              precision    recall  f1-score   support\n",
            "\n",
            "           0       1.00      0.99      0.99      2077\n",
            "           1       0.99      1.00      0.99      2083\n",
            "\n",
            "    accuracy                           0.99      4160\n",
            "   macro avg       0.99      0.99      0.99      4160\n",
            "weighted avg       0.99      0.99      0.99      4160\n",
            "\n",
            "\n",
            "\n",
            "Confusion matrix\n",
            "[[2057   20]\n",
            " [   8 2075]]\n"
          ]
        }
      ]
    },
    {
      "cell_type": "code",
      "source": [
        "import matplotlib.pyplot as plt\n",
        "cm=confusion_matrix(Y_test,dt_prediction_test)\n",
        "import seaborn as sn\n",
        "plt.figure(figsize=(5,5))\n",
        "fg=sn.heatmap(cm,annot=True,cmap='Blues')\n",
        "figure = fg.get_figure()\n",
        "plt.xlabel(\"Predicted\")\n",
        "plt.ylabel(\"Truth\")"
      ],
      "metadata": {
        "id": "TzHwn5wh-s2J",
        "colab": {
          "base_uri": "https://localhost:8080/",
          "height": 351
        },
        "outputId": "f167214b-57a7-49eb-a615-a38fb328076d"
      },
      "execution_count": null,
      "outputs": [
        {
          "output_type": "execute_result",
          "data": {
            "text/plain": [
              "Text(24.0, 0.5, 'Truth')"
            ]
          },
          "metadata": {},
          "execution_count": 55
        },
        {
          "output_type": "display_data",
          "data": {
            "image/png": "[encoded data removed]",
            "text/plain": [
              "<Figure size 360x360 with 2 Axes>"
            ]
          },
          "metadata": {
            "needs_background": "light"
          }
        }
      ]
    },
    {
      "cell_type": "code",
      "source": [
        "#Accuracy\n",
        "from sklearn.metrics import accuracy_score\n",
        "accuracy = accuracy_score(Y_test,dt_prediction_test)*100\n",
        "print(f'model accuracy is : {accuracy.round()} %')\n",
        "\n",
        "#f1, precesion, recall\n",
        "from sklearn.metrics import f1_score\n",
        "score = f1_score(Y_test,dt_prediction_test, average='binary')\n",
        "print('F-Measure for DT : %.3f' % score)\n",
        "\n",
        "from sklearn.metrics import recall_score\n",
        "recall = recall_score(Y_test,dt_prediction_test, average='binary')\n",
        "print('Recall for DT: %.3f' % recall)\n",
        "\n",
        "\n",
        "from sklearn.metrics import precision_score\n",
        "precision = precision_score(Y_test,dt_prediction_test, average='binary')\n",
        "print('Precision for DT: %.3f' % precision)"
      ],
      "metadata": {
        "id": "S-ZWawvD-vjg",
        "colab": {
          "base_uri": "https://localhost:8080/"
        },
        "outputId": "0e435cd1-ccba-436a-bccf-6307fbe6fe22"
      },
      "execution_count": null,
      "outputs": [
        {
          "output_type": "stream",
          "name": "stdout",
          "text": [
            "model accuracy is : 99.0 %\n",
            "F-Measure for DT : 0.993\n",
            "Recall for DT: 0.996\n",
            "Precision for DT: 0.990\n"
          ]
        }
      ]
    },
    {
      "cell_type": "markdown",
      "source": [
        "#CV Method -DT"
      ],
      "metadata": {
        "id": "tBcLmUTw_FMw"
      }
    },
    {
      "cell_type": "code",
      "source": [
        "dt = DecisionTreeClassifier()\n",
        "scores = cross_val_score(dt, X, Y , cv = 10, scoring= 'accuracy')\n",
        "print(scores)\n",
        "print(scores.mean())\n",
        "print(\"%0.2f accuracy with a standard deviation of %0.2f\" % (scores.mean(), scores.std()))\n"
      ],
      "metadata": {
        "id": "hfZhWanO_IC2",
        "colab": {
          "base_uri": "https://localhost:8080/"
        },
        "outputId": "f3bdd876-3c35-4008-aa5b-8cac7d9aeb0b"
      },
      "execution_count": null,
      "outputs": [
        {
          "output_type": "stream",
          "name": "stdout",
          "text": [
            "[0.99615385 0.99471154 0.99230769 0.99519231 0.99375    0.99375\n",
            " 0.99423077 0.99134615 0.99182692 0.99134615]\n",
            "0.9934615384615386\n",
            "0.99 accuracy with a standard deviation of 0.00\n"
          ]
        }
      ]
    },
    {
      "cell_type": "code",
      "source": [
        "import matplotlib.pyplot as plt\n",
        "cm=confusion_matrix(Y_test,dt_prediction_test)\n",
        "import seaborn as sn\n",
        "plt.figure(figsize=(8,6))\n",
        "fg=sn.heatmap(cm,annot=True,cmap='Blues')\n",
        "figure = fg.get_figure()\n",
        "plt.xlabel(\"Predicted\")\n",
        "plt.ylabel(\"Truth\")"
      ],
      "metadata": {
        "id": "ELFECmxN_cqJ",
        "colab": {
          "base_uri": "https://localhost:8080/",
          "height": 405
        },
        "outputId": "9f40dbe9-e11e-43b3-fbdc-af473c762f1d"
      },
      "execution_count": null,
      "outputs": [
        {
          "output_type": "execute_result",
          "data": {
            "text/plain": [
              "Text(51.0, 0.5, 'Truth')"
            ]
          },
          "metadata": {},
          "execution_count": 58
        },
        {
          "output_type": "display_data",
          "data": {
            "image/png": "[encoded data removed]",
            "text/plain": [
              "<Figure size 576x432 with 2 Axes>"
            ]
          },
          "metadata": {
            "needs_background": "light"
          }
        }
      ]
    },
    {
      "cell_type": "code",
      "source": [
        "#Accuracy\n",
        "from sklearn.metrics import accuracy_score\n",
        "accuracy = accuracy_score(Y_test,dt_prediction_test)*100\n",
        "print(f'model accuracy is : {accuracy.round()} %')\n",
        "\n",
        "#f1, precesion, recall\n",
        "from sklearn.metrics import f1_score\n",
        "score = f1_score(Y_test,dt_prediction_test, average='binary')\n",
        "print('F-Measure for DT : %.3f' % score)\n",
        "\n",
        "from sklearn.metrics import recall_score\n",
        "recall = recall_score(Y_test,dt_prediction_test, average='binary')\n",
        "print('Recall for DT: %.3f' % recall)\n",
        "\n",
        "\n",
        "from sklearn.metrics import precision_score\n",
        "precision = precision_score(Y_test,dt_prediction_test, average='binary')\n",
        "print('Precision for DT: %.3f' % precision)"
      ],
      "metadata": {
        "id": "B3DVKwMs_fmP",
        "colab": {
          "base_uri": "https://localhost:8080/"
        },
        "outputId": "eb033f77-bca3-4d39-eea1-f18cd554f8dd"
      },
      "execution_count": null,
      "outputs": [
        {
          "output_type": "stream",
          "name": "stdout",
          "text": [
            "model accuracy is : 99.0 %\n",
            "F-Measure for DT : 0.993\n",
            "Recall for DT: 0.996\n",
            "Precision for DT: 0.990\n"
          ]
        }
      ]
    },
    {
      "cell_type": "markdown",
      "source": [
        "#Random Forest"
      ],
      "metadata": {
        "id": "a5w0JBa1_q8W"
      }
    },
    {
      "cell_type": "code",
      "source": [
        "rf = RandomForestClassifier()"
      ],
      "metadata": {
        "id": "38RuE16T_wMu"
      },
      "execution_count": null,
      "outputs": []
    },
    {
      "cell_type": "code",
      "source": [
        "rf.fit(X_train,Y_train)"
      ],
      "metadata": {
        "id": "rsXhs1GvREGi",
        "colab": {
          "base_uri": "https://localhost:8080/"
        },
        "outputId": "c68fd95c-0eeb-433a-9561-6171b357e85b"
      },
      "execution_count": null,
      "outputs": [
        {
          "output_type": "execute_result",
          "data": {
            "text/plain": [
              "RandomForestClassifier()"
            ]
          },
          "metadata": {},
          "execution_count": 61
        }
      ]
    },
    {
      "cell_type": "code",
      "source": [
        "rf_prediction_train = rf.predict(X_train)\n",
        "print(rf_prediction_train)"
      ],
      "metadata": {
        "id": "q_iAf7V6RbZl",
        "colab": {
          "base_uri": "https://localhost:8080/"
        },
        "outputId": "f3555b1a-8320-4709-b41c-35caae2e32f2"
      },
      "execution_count": null,
      "outputs": [
        {
          "output_type": "stream",
          "name": "stdout",
          "text": [
            "[0 0 1 ... 1 1 0]\n"
          ]
        }
      ]
    },
    {
      "cell_type": "code",
      "source": [
        "#classification Report\n",
        "print('Classification report')\n",
        "print(classification_report(Y_train,rf_prediction_train))\n",
        "print('\\n')\n",
        "print('Confusion matrix')\n",
        "print(confusion_matrix(Y_train,rf_prediction_train))"
      ],
      "metadata": {
        "id": "1ajikkjARgMr",
        "colab": {
          "base_uri": "https://localhost:8080/"
        },
        "outputId": "c85981e6-8dbf-43d7-a50f-7ca133a72ee0"
      },
      "execution_count": null,
      "outputs": [
        {
          "output_type": "stream",
          "name": "stdout",
          "text": [
            "Classification report\n",
            "              precision    recall  f1-score   support\n",
            "\n",
            "           0       1.00      1.00      1.00      8310\n",
            "           1       1.00      1.00      1.00      8330\n",
            "\n",
            "    accuracy                           1.00     16640\n",
            "   macro avg       1.00      1.00      1.00     16640\n",
            "weighted avg       1.00      1.00      1.00     16640\n",
            "\n",
            "\n",
            "\n",
            "Confusion matrix\n",
            "[[8310    0]\n",
            " [   0 8330]]\n"
          ]
        }
      ]
    },
    {
      "cell_type": "code",
      "source": [
        "rf_prediction_test = rf.predict(X_test)\n",
        "print(rf_prediction_test)"
      ],
      "metadata": {
        "id": "Z6esKKPLRkrq",
        "colab": {
          "base_uri": "https://localhost:8080/"
        },
        "outputId": "6d1d9844-0f9d-4be0-f8be-faed1d392ccb"
      },
      "execution_count": null,
      "outputs": [
        {
          "output_type": "stream",
          "name": "stdout",
          "text": [
            "[0 1 1 ... 1 0 0]\n"
          ]
        }
      ]
    },
    {
      "cell_type": "code",
      "source": [
        "#classification Report\n",
        "print('Classification report')\n",
        "print(classification_report(Y_test,rf_prediction_test))\n",
        "print('\\n')\n",
        "print('Confission matrix')\n",
        "print(confusion_matrix(Y_test,rf_prediction_test))"
      ],
      "metadata": {
        "id": "WkK42hwJRp0B",
        "colab": {
          "base_uri": "https://localhost:8080/"
        },
        "outputId": "0c4abf38-7993-4563-b3bc-39458bfda734"
      },
      "execution_count": null,
      "outputs": [
        {
          "output_type": "stream",
          "name": "stdout",
          "text": [
            "Classification report\n",
            "              precision    recall  f1-score   support\n",
            "\n",
            "           0       1.00      0.99      0.99      2077\n",
            "           1       0.99      1.00      0.99      2083\n",
            "\n",
            "    accuracy                           0.99      4160\n",
            "   macro avg       0.99      0.99      0.99      4160\n",
            "weighted avg       0.99      0.99      0.99      4160\n",
            "\n",
            "\n",
            "\n",
            "Confission matrix\n",
            "[[2052   25]\n",
            " [   4 2079]]\n"
          ]
        }
      ]
    },
    {
      "cell_type": "code",
      "source": [
        "#Confusion Matrix\n",
        "import matplotlib.pyplot as plt\n",
        "cm=confusion_matrix(Y_test,rf_prediction_test)\n",
        "import seaborn as sn\n",
        "plt.figure(figsize=(5,5))\n",
        "fg=sn.heatmap(cm,annot=True,cmap='Blues')\n",
        "figure = fg.get_figure()\n",
        "plt.xlabel(\"Predicted\")\n",
        "plt.ylabel(\"Truth\")"
      ],
      "metadata": {
        "id": "fnAoQta3RwYW",
        "colab": {
          "base_uri": "https://localhost:8080/",
          "height": 351
        },
        "outputId": "a4c9e8f5-1ed0-46af-f32f-3a509b0379a1"
      },
      "execution_count": null,
      "outputs": [
        {
          "output_type": "execute_result",
          "data": {
            "text/plain": [
              "Text(24.0, 0.5, 'Truth')"
            ]
          },
          "metadata": {},
          "execution_count": 97
        },
        {
          "output_type": "display_data",
          "data": {
            "image/png": "[encoded data removed]",
            "text/plain": [
              "<Figure size 360x360 with 2 Axes>"
            ]
          },
          "metadata": {
            "needs_background": "light"
          }
        }
      ]
    },
    {
      "cell_type": "code",
      "source": [
        "#Accuracy\n",
        "from sklearn.metrics import accuracy_score\n",
        "accuracy = accuracy_score(Y_test,rf_prediction_test)*100\n",
        "print(f'model accuracy is : {accuracy.round()} %')\n",
        "\n",
        "#f1, precesion, recall\n",
        "from sklearn.metrics import f1_score\n",
        "score = f1_score(Y_test,rf_prediction_test, average='binary')\n",
        "print('F-Measure for Random Forest : %.3f' % score)\n",
        "\n",
        "from sklearn.metrics import recall_score\n",
        "recall = recall_score(Y_test,rf_prediction_test, average='binary')\n",
        "print('Recall for Random Forest: %.3f' % recall)\n",
        "\n",
        "\n",
        "from sklearn.metrics import precision_score\n",
        "precision = precision_score(Y_test,rf_prediction_test, average='binary')\n",
        "print('Precision for Random Forest: %.3f' % precision)"
      ],
      "metadata": {
        "id": "MzHK1rzERzR0",
        "colab": {
          "base_uri": "https://localhost:8080/"
        },
        "outputId": "d0c85d09-bd0e-4910-ed52-febca08a8006"
      },
      "execution_count": null,
      "outputs": [
        {
          "output_type": "stream",
          "name": "stdout",
          "text": [
            "model accuracy is : 99.0 %\n",
            "F-Measure for Random Forest : 0.993\n",
            "Recall for Random Forest: 0.998\n",
            "Precision for Random Forest: 0.988\n"
          ]
        }
      ]
    },
    {
      "cell_type": "markdown",
      "source": [
        "#CV Method"
      ],
      "metadata": {
        "id": "mCLAQTORSBYN"
      }
    },
    {
      "cell_type": "code",
      "source": [
        "#CV method\n",
        "rf = RandomForestClassifier()\n",
        "scores = cross_val_score(rf, X, Y , cv = 10, scoring= 'accuracy')\n",
        "print(\"%0.2f accuracy with a standard deviation of %0.2f\" % (scores.mean(), scores.std()))"
      ],
      "metadata": {
        "id": "iMfC2nqkSUi3",
        "colab": {
          "base_uri": "https://localhost:8080/"
        },
        "outputId": "db6e4278-5c80-4505-9618-e89f45a51080"
      },
      "execution_count": null,
      "outputs": [
        {
          "output_type": "stream",
          "name": "stdout",
          "text": [
            "0.99 accuracy with a standard deviation of 0.00\n"
          ]
        }
      ]
    },
    {
      "cell_type": "code",
      "source": [
        "#Accuracy\n",
        "from sklearn.metrics import accuracy_score\n",
        "accuracy = accuracy_score(Y_test,rf_prediction_test)*100\n",
        "print(f'model accuracy is : {accuracy.round()} %')\n",
        "\n",
        "#f1, precesion, recall\n",
        "from sklearn.metrics import f1_score\n",
        "score = f1_score(Y_test,rf_prediction_test, average='binary')\n",
        "print('F-Measure for Random Forest : %.3f' % score)\n",
        "\n",
        "from sklearn.metrics import recall_score\n",
        "recall = recall_score(Y_test,rf_prediction_test, average='binary')\n",
        "print('Recall for Random Forest: %.3f' % recall)\n",
        "\n",
        "\n",
        "from sklearn.metrics import precision_score\n",
        "precision = precision_score(Y_test,rf_prediction_test, average='binary')\n",
        "print('Precision for Random Forest: %.3f' % precision)"
      ],
      "metadata": {
        "id": "TOXF0h0HVjIs",
        "colab": {
          "base_uri": "https://localhost:8080/"
        },
        "outputId": "9eb2e535-dc4b-47f2-993b-e1dc23766452"
      },
      "execution_count": null,
      "outputs": [
        {
          "output_type": "stream",
          "name": "stdout",
          "text": [
            "model accuracy is : 99.0 %\n",
            "F-Measure for Random Forest : 0.993\n",
            "Recall for Random Forest: 0.998\n",
            "Precision for Random Forest: 0.988\n"
          ]
        }
      ]
    },
    {
      "cell_type": "markdown",
      "source": [
        "#XG-BOOST"
      ],
      "metadata": {
        "id": "arJ3bZS7bbxp"
      }
    },
    {
      "cell_type": "code",
      "source": [
        "from xgboost import XGBClassifier\n",
        "modelXG=XGBClassifier()"
      ],
      "metadata": {
        "id": "ePN8DOK9bets"
      },
      "execution_count": null,
      "outputs": []
    },
    {
      "cell_type": "code",
      "source": [
        "modelXG.fit(X_train,Y_train)\n",
        "xg_prediction_Train = modelXG.predict(X_train)\n",
        "print(xg_prediction_Train)"
      ],
      "metadata": {
        "id": "1v_2XQZvbr1H",
        "colab": {
          "base_uri": "https://localhost:8080/"
        },
        "outputId": "53faa12a-0249-4fc0-8881-0144904ae94b"
      },
      "execution_count": null,
      "outputs": [
        {
          "output_type": "stream",
          "name": "stdout",
          "text": [
            "[0 0 1 ... 1 1 0]\n"
          ]
        }
      ]
    },
    {
      "cell_type": "code",
      "source": [
        "#classification Report\n",
        "print('Classification report')\n",
        "print(classification_report(Y_train,xg_prediction_Train))\n",
        "print('\\n')\n",
        "print('Confusion matrix')\n",
        "print(confusion_matrix(Y_train,xg_prediction_Train))"
      ],
      "metadata": {
        "id": "lQ3NFdIabwEa",
        "colab": {
          "base_uri": "https://localhost:8080/"
        },
        "outputId": "e9268deb-7a89-419f-fd9b-f8b746530796"
      },
      "execution_count": null,
      "outputs": [
        {
          "output_type": "stream",
          "name": "stdout",
          "text": [
            "Classification report\n",
            "              precision    recall  f1-score   support\n",
            "\n",
            "           0       1.00      0.92      0.96      8310\n",
            "           1       0.93      1.00      0.96      8330\n",
            "\n",
            "    accuracy                           0.96     16640\n",
            "   macro avg       0.96      0.96      0.96     16640\n",
            "weighted avg       0.96      0.96      0.96     16640\n",
            "\n",
            "\n",
            "\n",
            "Confusion matrix\n",
            "[[7669  641]\n",
            " [  16 8314]]\n"
          ]
        }
      ]
    },
    {
      "cell_type": "code",
      "source": [
        "XG_prediction_test = modelXG.predict(X_test)\n",
        "print(XG_prediction_test)"
      ],
      "metadata": {
        "id": "7VWhi30Yb4k4",
        "colab": {
          "base_uri": "https://localhost:8080/"
        },
        "outputId": "9f221668-b3f7-4c3d-e359-f965258602ba"
      },
      "execution_count": null,
      "outputs": [
        {
          "output_type": "stream",
          "name": "stdout",
          "text": [
            "[0 1 1 ... 1 0 0]\n"
          ]
        }
      ]
    },
    {
      "cell_type": "code",
      "source": [
        "print('Classification report')\n",
        "print(classification_report(Y_test,XG_prediction_test))\n",
        "print('\\n')\n",
        "print('Confusion matrix')\n",
        "print(confusion_matrix(Y_test,XG_prediction_test))"
      ],
      "metadata": {
        "id": "fbRdGryVb8jS",
        "colab": {
          "base_uri": "https://localhost:8080/"
        },
        "outputId": "a89f58c9-e760-436a-bb08-3c10b35892b7"
      },
      "execution_count": null,
      "outputs": [
        {
          "output_type": "stream",
          "name": "stdout",
          "text": [
            "Classification report\n",
            "              precision    recall  f1-score   support\n",
            "\n",
            "           0       1.00      0.92      0.96      2077\n",
            "           1       0.92      1.00      0.96      2083\n",
            "\n",
            "    accuracy                           0.96      4160\n",
            "   macro avg       0.96      0.96      0.96      4160\n",
            "weighted avg       0.96      0.96      0.96      4160\n",
            "\n",
            "\n",
            "\n",
            "Confusion matrix\n",
            "[[1901  176]\n",
            " [   3 2080]]\n"
          ]
        }
      ]
    },
    {
      "cell_type": "code",
      "source": [
        "#Confusion Matrix\n",
        "import matplotlib.pyplot as plt\n",
        "cm=confusion_matrix(Y_test,XG_prediction_test)\n",
        "import seaborn as sn\n",
        "plt.figure(figsize=(5,5))\n",
        "fg=sn.heatmap(cm,annot=True,cmap='Blues')\n",
        "figure = fg.get_figure()\n",
        "plt.xlabel(\"Predicted\")\n",
        "plt.ylabel(\"Truth\")"
      ],
      "metadata": {
        "id": "QugVVE_CcDCT",
        "colab": {
          "base_uri": "https://localhost:8080/",
          "height": 351
        },
        "outputId": "6a0ae921-4065-4f97-ca20-2ea3c691a637"
      },
      "execution_count": null,
      "outputs": [
        {
          "output_type": "execute_result",
          "data": {
            "text/plain": [
              "Text(24.0, 0.5, 'Truth')"
            ]
          },
          "metadata": {},
          "execution_count": 99
        },
        {
          "output_type": "display_data",
          "data": {
            "image/png": "[encoded data removed]",
            "text/plain": [
              "<Figure size 360x360 with 2 Axes>"
            ]
          },
          "metadata": {
            "needs_background": "light"
          }
        }
      ]
    },
    {
      "cell_type": "code",
      "source": [
        "#Accuracy\n",
        "from sklearn.metrics import accuracy_score\n",
        "accuracy = accuracy_score(Y_test,XG_prediction_test)*100\n",
        "print(f'model accuracy is : {accuracy.round()} %')\n",
        "\n",
        "from sklearn.metrics import mean_squared_error\n",
        "rmse = np.sqrt(mean_squared_error(Y_test,XG_prediction_test))\n",
        "print(\"RMSE: %f\" % (rmse))\n",
        "\n",
        "#f1, precesion, recall\n",
        "from sklearn.metrics import f1_score\n",
        "score = f1_score(Y_test,XG_prediction_test, average='binary')\n",
        "print('F-Measure for XGBOOST : %.3f' % score)\n",
        "\n",
        "from sklearn.metrics import recall_score\n",
        "recall = recall_score(Y_test,XG_prediction_test, average='binary')\n",
        "print('Recall for XGBOOST: %.3f' % recall)\n",
        "\n",
        "\n",
        "from sklearn.metrics import precision_score\n",
        "precision = precision_score(Y_test,XG_prediction_test, average='binary')\n",
        "print('Precision for XGBOOST: %.3f' % precision)"
      ],
      "metadata": {
        "id": "6cZ7CTSzcHns",
        "colab": {
          "base_uri": "https://localhost:8080/"
        },
        "outputId": "72ad73ae-461e-4c4c-d99a-ca04d215c507"
      },
      "execution_count": null,
      "outputs": [
        {
          "output_type": "stream",
          "name": "stdout",
          "text": [
            "model accuracy is : 96.0 %\n",
            "RMSE: 0.207434\n",
            "F-Measure for XGBOOST : 0.959\n",
            "Recall for XGBOOST: 0.999\n",
            "Precision for XGBOOST: 0.922\n"
          ]
        }
      ]
    },
    {
      "cell_type": "code",
      "source": [
        "#CV method\n",
        "modelXG.fit(X_train,Y_train)\n",
        "scores = cross_val_score(modelXG, X, Y , cv = 10, scoring= 'accuracy')\n",
        "print(scores)\n",
        "print(scores.mean())\n",
        "print(\"%0.2f accuracy with a standard deviation of %0.2f\" % (scores.mean(), scores.std()))"
      ],
      "metadata": {
        "id": "ssjUFHiWcWFS",
        "colab": {
          "base_uri": "https://localhost:8080/"
        },
        "outputId": "ce349ffb-a7df-4dc6-9ae4-4b8643d5a903"
      },
      "execution_count": null,
      "outputs": [
        {
          "output_type": "stream",
          "name": "stdout",
          "text": [
            "[0.95384615 0.94615385 0.95721154 0.95817308 0.96153846 0.96394231\n",
            " 0.95528846 0.95096154 0.94903846 0.95528846]\n",
            "0.9551442307692308\n",
            "0.96 accuracy with a standard deviation of 0.01\n"
          ]
        }
      ]
    },
    {
      "cell_type": "code",
      "source": [
        "#Accuracy\n",
        "from sklearn.metrics import accuracy_score\n",
        "accuracy = accuracy_score(Y_test,XG_prediction_test)*100\n",
        "print(f'model accuracy is : {accuracy.round()} %')\n",
        "\n",
        "from sklearn.metrics import mean_squared_error\n",
        "rmse = np.sqrt(mean_squared_error(Y_test,XG_prediction_test))\n",
        "print(\"RMSE: %f\" % (rmse))\n",
        "\n",
        "#f1, precesion, recall\n",
        "from sklearn.metrics import f1_score\n",
        "score = f1_score(Y_test,XG_prediction_test, average='binary')\n",
        "print('F-Measure for XGBOOST : %.3f' % score)\n",
        "\n",
        "from sklearn.metrics import recall_score\n",
        "recall = recall_score(Y_test,XG_prediction_test, average='binary')\n",
        "print('Recall for XGBOOST: %.3f' % recall)\n",
        "\n",
        "\n",
        "from sklearn.metrics import precision_score\n",
        "precision = precision_score(Y_test,XG_prediction_test, average='binary')\n",
        "print('Precision for XGBOOST: %.3f' % precision)"
      ],
      "metadata": {
        "id": "swFZHHZgcki5",
        "colab": {
          "base_uri": "https://localhost:8080/"
        },
        "outputId": "60798973-546f-477d-cff7-d8db297c2d42"
      },
      "execution_count": null,
      "outputs": [
        {
          "output_type": "stream",
          "name": "stdout",
          "text": [
            "model accuracy is : 96.0 %\n",
            "RMSE: 0.207434\n",
            "F-Measure for XGBOOST : 0.959\n",
            "Recall for XGBOOST: 0.999\n",
            "Precision for XGBOOST: 0.922\n"
          ]
        }
      ]
    },
    {
      "cell_type": "markdown",
      "source": [
        "#KNN Algorithm for prediction"
      ],
      "metadata": {
        "id": "pky7PR9Xcs9V"
      }
    },
    {
      "cell_type": "code",
      "source": [
        "from sklearn.neighbors import KNeighborsClassifier\n",
        "knn = KNeighborsClassifier(n_neighbors=3)\n",
        "knn.fit(X_train,Y_train)\n",
        "KNN_prediction = knn.predict(X_train)\n",
        "print(KNN_prediction)"
      ],
      "metadata": {
        "id": "h_7k4USfcwOD",
        "colab": {
          "base_uri": "https://localhost:8080/"
        },
        "outputId": "50e6bc35-e279-4036-d57c-cfec938f9fd0"
      },
      "execution_count": null,
      "outputs": [
        {
          "output_type": "stream",
          "name": "stdout",
          "text": [
            "[1 1 1 ... 1 1 1]\n"
          ]
        }
      ]
    },
    {
      "cell_type": "code",
      "source": [
        "print('Classification report')\n",
        "print(classification_report(Y_train,KNN_prediction))\n",
        "print('\\n')\n",
        "print('Confusion matrix')\n",
        "print(confusion_matrix(Y_train,KNN_prediction))"
      ],
      "metadata": {
        "id": "ngonViY5dXjP",
        "colab": {
          "base_uri": "https://localhost:8080/"
        },
        "outputId": "44914b2b-e4c1-4ec7-a08f-225faf810c38"
      },
      "execution_count": null,
      "outputs": [
        {
          "output_type": "stream",
          "name": "stdout",
          "text": [
            "Classification report\n",
            "              precision    recall  f1-score   support\n",
            "\n",
            "           0       1.00      0.17      0.29      8310\n",
            "           1       0.55      1.00      0.71      8330\n",
            "\n",
            "    accuracy                           0.59     16640\n",
            "   macro avg       0.77      0.59      0.50     16640\n",
            "weighted avg       0.77      0.59      0.50     16640\n",
            "\n",
            "\n",
            "\n",
            "Confusion matrix\n",
            "[[1430 6880]\n",
            " [   1 8329]]\n"
          ]
        }
      ]
    },
    {
      "cell_type": "code",
      "source": [
        "knn = KNeighborsClassifier(n_neighbors=3)\n",
        "knn.fit(X_train,Y_train)\n",
        "KNN_prediction_test = knn.predict(X_test)\n",
        "print(KNN_prediction_test)"
      ],
      "metadata": {
        "id": "W2PAsDt-dcg8",
        "colab": {
          "base_uri": "https://localhost:8080/"
        },
        "outputId": "5bc73e80-cdc7-4f83-cd9b-6de87abe441b"
      },
      "execution_count": null,
      "outputs": [
        {
          "output_type": "stream",
          "name": "stdout",
          "text": [
            "[1 1 1 ... 1 1 1]\n"
          ]
        }
      ]
    },
    {
      "cell_type": "code",
      "source": [
        "print('Classification report')\n",
        "print(classification_report(Y_test,KNN_prediction_test))\n",
        "print('\\n')\n",
        "print('Confusion matrix')\n",
        "print(confusion_matrix(Y_test,KNN_prediction_test))"
      ],
      "metadata": {
        "id": "75SyHYN-diKL",
        "colab": {
          "base_uri": "https://localhost:8080/"
        },
        "outputId": "17ca9f02-a8b7-418b-e2e2-d2333dbc92fd"
      },
      "execution_count": null,
      "outputs": [
        {
          "output_type": "stream",
          "name": "stdout",
          "text": [
            "Classification report\n",
            "              precision    recall  f1-score   support\n",
            "\n",
            "           0       1.00      0.07      0.14      2077\n",
            "           1       0.52      1.00      0.68      2083\n",
            "\n",
            "    accuracy                           0.54      4160\n",
            "   macro avg       0.76      0.54      0.41      4160\n",
            "weighted avg       0.76      0.54      0.41      4160\n",
            "\n",
            "\n",
            "\n",
            "Confusion matrix\n",
            "[[ 155 1922]\n",
            " [   0 2083]]\n"
          ]
        }
      ]
    },
    {
      "cell_type": "code",
      "source": [
        "import matplotlib.pyplot as plt\n",
        "cm=confusion_matrix(Y_test,KNN_prediction_test)\n",
        "import seaborn as sn\n",
        "plt.figure(figsize=(5,5))\n",
        "fg=sn.heatmap(cm,annot=True,cmap='Blues')\n",
        "figure = fg.get_figure()\n",
        "plt.xlabel(\"Predicted\")\n",
        "plt.ylabel(\"Truth\")"
      ],
      "metadata": {
        "id": "aFtgSTIidnFr",
        "colab": {
          "base_uri": "https://localhost:8080/",
          "height": 351
        },
        "outputId": "90733de7-617a-4552-d95c-66c17fc55acf"
      },
      "execution_count": null,
      "outputs": [
        {
          "output_type": "execute_result",
          "data": {
            "text/plain": [
              "Text(24.0, 0.5, 'Truth')"
            ]
          },
          "metadata": {},
          "execution_count": 100
        },
        {
          "output_type": "display_data",
          "data": {
            "image/png": "[encoded data removed]",
            "text/plain": [
              "<Figure size 360x360 with 2 Axes>"
            ]
          },
          "metadata": {
            "needs_background": "light"
          }
        }
      ]
    },
    {
      "cell_type": "code",
      "source": [
        "#Accuracy\n",
        "from sklearn.metrics import accuracy_score\n",
        "accuracy = accuracy_score(Y_test,KNN_prediction_test)*100\n",
        "print(f'model accuracy is : {accuracy.round()} %')\n",
        "\n",
        "#f1, precesion, recall\n",
        "from sklearn.metrics import f1_score\n",
        "score = f1_score(Y_test,KNN_prediction_test, average='binary')\n",
        "print('F-Measure for KNN : %.3f' % score)\n",
        "\n",
        "from sklearn.metrics import recall_score\n",
        "recall = recall_score(Y_test,KNN_prediction_test, average='binary')\n",
        "print('Recall for KNN: %.3f' % recall)\n",
        "\n",
        "\n",
        "from sklearn.metrics import precision_score\n",
        "precision = precision_score(Y_test,KNN_prediction_test, average='binary')\n",
        "print('Precision for KNN: %.3f' % precision)"
      ],
      "metadata": {
        "id": "rkTnvcbTdqrn",
        "colab": {
          "base_uri": "https://localhost:8080/"
        },
        "outputId": "d9156f64-98c3-4f88-f050-e080feb6643b"
      },
      "execution_count": null,
      "outputs": [
        {
          "output_type": "stream",
          "name": "stdout",
          "text": [
            "model accuracy is : 54.0 %\n",
            "F-Measure for KNN : 0.684\n",
            "Recall for KNN: 1.000\n",
            "Precision for KNN: 0.520\n"
          ]
        }
      ]
    },
    {
      "cell_type": "markdown",
      "source": [
        "#CV Method"
      ],
      "metadata": {
        "id": "YrFwlzs4d5Iw"
      }
    },
    {
      "cell_type": "code",
      "source": [
        "knn = KNeighborsClassifier(n_neighbors=7)\n",
        "scores = cross_val_score(knn, X, Y , cv = 10, scoring= 'accuracy')\n",
        "print(scores)\n",
        "print(scores.mean())\n",
        "print(\"%0.2f accuracy with a standard deviation of %0.2f\" % (scores.mean(), scores.std()))"
      ],
      "metadata": {
        "id": "heVhn-F4d67K",
        "colab": {
          "base_uri": "https://localhost:8080/"
        },
        "outputId": "579b1c42-2dba-44cc-c933-7644718cd964"
      },
      "execution_count": null,
      "outputs": [
        {
          "output_type": "stream",
          "name": "stdout",
          "text": [
            "[0.52211538 0.52259615 0.52403846 0.51634615 0.52067308 0.51538462\n",
            " 0.51730769 0.51875    0.52019231 0.52019231]\n",
            "0.5197596153846155\n",
            "0.52 accuracy with a standard deviation of 0.00\n"
          ]
        }
      ]
    },
    {
      "cell_type": "code",
      "source": [
        "#Accuracy\n",
        "from sklearn.metrics import accuracy_score\n",
        "accuracy = accuracy_score(Y_test,KNN_prediction_test)*100\n",
        "print(f'model accuracy is : {accuracy.round()} %')\n",
        "\n",
        "#f1, precesion, recall\n",
        "from sklearn.metrics import f1_score\n",
        "score = f1_score(Y_test,KNN_prediction_test, average='binary')\n",
        "print('F-Measure for KNN : %.3f' % score)\n",
        "\n",
        "from sklearn.metrics import recall_score\n",
        "recall = recall_score(Y_test,KNN_prediction_test, average='binary')\n",
        "print('Recall for KNN: %.3f' % recall)\n",
        "\n",
        "\n",
        "from sklearn.metrics import precision_score\n",
        "precision = precision_score(Y_test,KNN_prediction_test, average='binary')\n",
        "print('Precision for KNN: %.3f' % precision)"
      ],
      "metadata": {
        "id": "IYxUvxsCeHrL",
        "colab": {
          "base_uri": "https://localhost:8080/"
        },
        "outputId": "5b9b16e0-f61a-4f61-a5fb-55b5a3cbad79"
      },
      "execution_count": null,
      "outputs": [
        {
          "output_type": "stream",
          "name": "stdout",
          "text": [
            "model accuracy is : 54.0 %\n",
            "F-Measure for KNN : 0.684\n",
            "Recall for KNN: 1.000\n",
            "Precision for KNN: 0.520\n"
          ]
        }
      ]
    },
    {
      "cell_type": "code",
      "source": [
        "print(\"%0.2f accuracy with a standard deviation of %0.2f\" % (scores.mean(), scores.std()))"
      ],
      "metadata": {
        "id": "suQL8v3oeUp0",
        "colab": {
          "base_uri": "https://localhost:8080/"
        },
        "outputId": "76b8670a-67f7-4728-f537-249c5731e58b"
      },
      "execution_count": null,
      "outputs": [
        {
          "output_type": "stream",
          "name": "stdout",
          "text": [
            "0.52 accuracy with a standard deviation of 0.00\n"
          ]
        }
      ]
    }
  ]
}